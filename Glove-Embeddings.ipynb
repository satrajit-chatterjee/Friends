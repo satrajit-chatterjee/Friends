{
 "cells": [
  {
   "cell_type": "code",
   "execution_count": 5,
   "metadata": {},
   "outputs": [],
   "source": [
    "import numpy as np\n",
    "import time"
   ]
  },
  {
   "cell_type": "code",
   "execution_count": 2,
   "metadata": {},
   "outputs": [
    {
     "name": "stdout",
     "output_type": "stream",
     "text": [
      "Done. 400000  words loaded!\n"
     ]
    }
   ],
   "source": [
    "#Loading glove word to vectors\n",
    "def loadGloveModel(gloveFile):\n",
    "    f = open(gloveFile,'r')\n",
    "    model = {}\n",
    "    for line in f:\n",
    "        splitLine = line.split()\n",
    "        word = splitLine[0]\n",
    "        embedding = np.array([float(val) for val in splitLine[1:]], dtype = np.float16)\n",
    "        model[word] = embedding\n",
    "    print (\"Done.\",len(model),\" words loaded!\")\n",
    "    return model\n",
    "\n",
    "#Const for word 2 vector dimensions\n",
    "word_vec_dim = 50\n",
    "\n",
    "#Loading the glove word to vectors\n",
    "glove_file  = './../Machine-Learning/Datasets/Glove-Word2Vec/glove.6B.' + str(word_vec_dim) + 'd.txt'\n",
    "word_2_vec  =  loadGloveModel(glove_file)"
   ]
  },
  {
   "cell_type": "code",
   "execution_count": 9,
   "metadata": {},
   "outputs": [],
   "source": [
    "def CosineDistance(vector1, vector2):\n",
    "    inner_product = np.sum(np.dot(vector1, vector2))\n",
    "    magnitude     = np.linalg.norm(vector1) * np.linalg.norm(vector2)\n",
    "    cosine_distance = 1 - inner_product / magnitude\n",
    "    return cosine_distance\n",
    "def ClosestWord(word2vec, words, reference_word):\n",
    "    ref_vector = word2vec[reference_word]\n",
    "    min_dist = 1\n",
    "    closest_word = words[0]\n",
    "    for word in words:\n",
    "        if word != reference_word:\n",
    "            new_vector = word2vec[word]\n",
    "            dist = CosineDistance(ref_vector, new_vector)\n",
    "            if dist < min_dist:\n",
    "                closest_word = word\n",
    "                min_dist = dist\n",
    "    return closest_word"
   ]
  },
  {
   "cell_type": "code",
   "execution_count": 14,
   "metadata": {},
   "outputs": [
    {
     "name": "stdout",
     "output_type": "stream",
     "text": [
      "baking\n"
     ]
    }
   ],
   "source": [
    "words = [\"baking\", \"queen\", \"duet\"]\n",
    "print(ClosestWord(word_2_vec, words, \"cooking\"))"
   ]
  },
  {
   "cell_type": "code",
   "execution_count": null,
   "metadata": {},
   "outputs": [],
   "source": []
  }
 ],
 "metadata": {
  "kernelspec": {
   "display_name": "Python 3",
   "language": "python",
   "name": "python3"
  },
  "language_info": {
   "codemirror_mode": {
    "name": "ipython",
    "version": 3
   },
   "file_extension": ".py",
   "mimetype": "text/x-python",
   "name": "python",
   "nbconvert_exporter": "python",
   "pygments_lexer": "ipython3",
   "version": "3.5.2"
  }
 },
 "nbformat": 4,
 "nbformat_minor": 2
}
